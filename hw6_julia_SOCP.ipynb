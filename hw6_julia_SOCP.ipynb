{
 "cells": [
  {
   "cell_type": "code",
   "execution_count": 26,
   "metadata": {},
   "outputs": [],
   "source": [
    "using Pkg\n",
    "# Pkg.add(\"Mosek\")\n",
    "Pkg.add(\"LinearAlgebra\")"
   ]
  },
  {
   "cell_type": "code",
   "execution_count": 11,
   "metadata": {},
   "outputs": [],
   "source": [
    "using MosekTools"
   ]
  },
  {
   "cell_type": "code",
   "execution_count": 8,
   "metadata": {},
   "outputs": [],
   "source": [
    "using JuMP"
   ]
  },
  {
   "cell_type": "code",
   "execution_count": 13,
   "metadata": {},
   "outputs": [
    {
     "name": "stdout",
     "output_type": "stream",
     "text": [
      "Problem\n",
      "  Name                   :                 \n",
      "  Objective sense        : max             \n",
      "  Type                   : CONIC (conic optimization problem)\n",
      "  Constraints            : 14              \n",
      "  Cones                  : 0               \n",
      "  Scalar variables       : 10              \n",
      "  Matrix variables       : 1               \n",
      "  Integer variables      : 0               \n",
      "\n",
      "Optimizer started.\n",
      "Presolve started.\n",
      "Linear dependency checker started.\n",
      "Linear dependency checker terminated.\n",
      "Eliminator started.\n",
      "Freed constraints in eliminator : 8\n",
      "Eliminator terminated.\n",
      "Eliminator started.\n",
      "Freed constraints in eliminator : 0\n",
      "Eliminator terminated.\n",
      "Eliminator - tries                  : 2                 time                   : 0.00            \n",
      "Lin. dep.  - tries                  : 1                 time                   : 0.00            \n",
      "Lin. dep.  - number                 : 0               \n",
      "Presolve terminated. Time: 0.00    \n",
      "Problem\n",
      "  Name                   :                 \n",
      "  Objective sense        : max             \n",
      "  Type                   : CONIC (conic optimization problem)\n",
      "  Constraints            : 14              \n",
      "  Cones                  : 0               \n",
      "  Scalar variables       : 10              \n",
      "  Matrix variables       : 1               \n",
      "  Integer variables      : 0               \n",
      "\n",
      "Optimizer  - threads                : 4               \n",
      "Optimizer  - solved problem         : the primal      \n",
      "Optimizer  - Constraints            : 6\n",
      "Optimizer  - Cones                  : 1\n",
      "Optimizer  - Scalar variables       : 3                 conic                  : 3               \n",
      "Optimizer  - Semi-definite variables: 1                 scalarized             : 6               \n",
      "Factor     - setup time             : 0.00              dense det. time        : 0.00            \n",
      "Factor     - ML order time          : 0.00              GP order time          : 0.00            \n",
      "Factor     - nonzeros before factor : 21                after factor           : 21              \n",
      "Factor     - dense dim.             : 0                 flops                  : 2.94e+02        \n",
      "ITE PFEAS    DFEAS    GFEAS    PRSTATUS   POBJ              DOBJ              MU       TIME  \n",
      "0   5.0e+00  1.0e+00  1.0e+00  0.00e+00   0.000000000e+00   0.000000000e+00   1.0e+00  0.00  \n",
      "1   8.9e-01  1.8e-01  3.3e-01  -8.55e-01  -1.874191263e+00  -4.661853132e+00  1.8e-01  0.03  \n",
      "2   1.3e-01  2.6e-02  1.4e-02  4.92e-01   -2.625178754e+00  -2.799369027e+00  2.6e-02  0.03  \n",
      "3   2.6e-03  5.2e-04  2.7e-05  1.02e+00   -2.212823206e+00  -2.213259797e+00  5.2e-04  0.05  \n",
      "4   1.4e-04  2.8e-05  3.2e-07  1.02e+00   -2.206606104e+00  -2.206614070e+00  2.8e-05  0.05  \n",
      "5   9.0e-06  1.8e-06  5.2e-09  1.01e+00   -2.206053476e+00  -2.206054081e+00  1.8e-06  0.05  \n",
      "6   3.1e-07  6.3e-08  3.4e-11  1.00e+00   -2.206009703e+00  -2.206009726e+00  6.3e-08  0.06  \n",
      "7   7.5e-09  1.5e-09  1.2e-13  1.00e+00   -2.206008182e+00  -2.206008183e+00  1.5e-09  0.06  \n",
      "Optimizer terminated. Time: 0.08    \n",
      "\n"
     ]
    }
   ],
   "source": [
    "Problem2 = Model(Mosek.Optimizer)\n",
    "@variable(Problem2,r)\n",
    "@variable(Problem2,Q[1:3,1:3])\n",
    "@SDconstraint(Problem2,Q>=0)\n",
    "@constraint(Problem2,Q[1,1]-1+r==0)\n",
    "@constraint(Problem2,Q[2,1]+Q[1,2]+2==0)\n",
    "@constraint(Problem2,Q[3,1]+Q[2,2]+Q[1,3]-1+2r==0)\n",
    "@constraint(Problem2,Q[3,2]+Q[2,3]+5==0)\n",
    "@constraint(Problem2,Q[3,3]+1+r==0)\n",
    "@objective(Problem2,Max,r)\n",
    "optimize!(Problem2)"
   ]
  },
  {
   "cell_type": "code",
   "execution_count": 17,
   "metadata": {},
   "outputs": [
    {
     "data": {
      "text/plain": [
       "-2.2060081821861273"
      ]
     },
     "execution_count": 17,
     "metadata": {},
     "output_type": "execute_result"
    }
   ],
   "source": [
    "value.(r)"
   ]
  },
  {
   "cell_type": "code",
   "execution_count": 18,
   "metadata": {},
   "outputs": [
    {
     "data": {
      "text/plain": [
       "3×3 Matrix{Float64}:\n",
       "  3.20601   -1.0    -0.224491\n",
       " -1.0        5.861  -2.5\n",
       " -0.224491  -2.5     1.20601"
      ]
     },
     "execution_count": 18,
     "metadata": {},
     "output_type": "execute_result"
    }
   ],
   "source": [
    "value.(Q)"
   ]
  },
  {
   "cell_type": "code",
   "execution_count": 32,
   "metadata": {},
   "outputs": [],
   "source": [
    "using DelimitedFiles"
   ]
  },
  {
   "cell_type": "code",
   "execution_count": 38,
   "metadata": {},
   "outputs": [
    {
     "name": "stdout",
     "output_type": "stream",
     "text": [
      "Problem\n",
      "  Name                   :                 \n",
      "  Objective sense        : min             \n",
      "  Type                   : CONIC (conic optimization problem)\n",
      "  Constraints            : 44              \n",
      "  Cones                  : 2               \n",
      "  Scalar variables       : 64              \n",
      "  Matrix variables       : 0               \n",
      "  Integer variables      : 0               \n",
      "\n",
      "Optimizer started.\n",
      "Presolve started.\n",
      "Linear dependency checker started.\n",
      "Linear dependency checker terminated.\n",
      "Eliminator started.\n",
      "Freed constraints in eliminator : 0\n",
      "Eliminator terminated.\n",
      "Eliminator - tries                  : 1                 time                   : 0.00            \n",
      "Lin. dep.  - tries                  : 1                 time                   : 0.00            \n",
      "Lin. dep.  - number                 : 0               \n",
      "Presolve terminated. Time: 0.00    \n",
      "Problem\n",
      "  Name                   :                 \n",
      "  Objective sense        : min             \n",
      "  Type                   : CONIC (conic optimization problem)\n",
      "  Constraints            : 44              \n",
      "  Cones                  : 2               \n",
      "  Scalar variables       : 64              \n",
      "  Matrix variables       : 0               \n",
      "  Integer variables      : 0               \n",
      "\n",
      "Optimizer  - threads                : 4               \n",
      "Optimizer  - solved problem         : the dual        \n",
      "Optimizer  - Constraints            : 20\n",
      "Optimizer  - Cones                  : 3\n",
      "Optimizer  - Scalar variables       : 65                conic                  : 45              \n",
      "Optimizer  - Semi-definite variables: 0                 scalarized             : 0               \n",
      "Factor     - setup time             : 0.00              dense det. time        : 0.00            \n",
      "Factor     - ML order time          : 0.00              GP order time          : 0.00            \n",
      "Factor     - nonzeros before factor : 210               after factor           : 210             \n",
      "Factor     - dense dim.             : 0                 flops                  : 1.64e+04        \n",
      "ITE PFEAS    DFEAS    GFEAS    PRSTATUS   POBJ              DOBJ              MU       TIME  \n",
      "0   3.1e+01  1.0e+00  2.8e+01  0.00e+00   7.071067812e-01   2.929289322e+01   1.0e+00  0.00  \n",
      "1   1.0e+01  3.4e-01  1.5e+01  -9.28e-01  7.897864720e+00   3.621276286e+01   3.4e-01  0.05  \n",
      "2   3.7e+00  1.2e-01  7.1e+00  -7.31e-01  4.377655992e+01   6.859341375e+01   1.2e-01  0.05  \n",
      "3   9.6e-01  3.1e-02  2.3e+00  -4.98e-01  1.543687789e+02   1.743938102e+02   3.1e-02  0.05  \n",
      "4   2.7e-01  8.8e-03  5.6e-01  5.02e-03   2.821137018e+02   2.929963863e+02   8.8e-03  0.05  \n",
      "5   1.4e-01  4.6e-03  2.9e-01  3.07e-01   3.095629913e+02   3.192719958e+02   4.6e-03  0.05  \n",
      "6   2.2e-02  7.1e-04  1.8e-02  6.01e-01   3.884650457e+02   3.901370821e+02   7.1e-04  0.05  \n",
      "7   4.2e-03  1.4e-04  1.6e-03  9.29e-01   4.016579226e+02   4.019981902e+02   1.4e-04  0.05  \n",
      "8   6.8e-04  2.2e-05  1.1e-04  9.95e-01   4.042899507e+02   4.043471879e+02   2.2e-05  0.05  \n",
      "9   6.1e-05  2.0e-06  3.0e-06  1.00e+00   4.047490387e+02   4.047543410e+02   2.0e-06  0.05  \n",
      "10  3.9e-07  1.3e-08  1.6e-09  1.00e+00   4.047944489e+02   4.047944842e+02   1.2e-08  0.05  \n",
      "11  1.6e-09  4.9e-11  9.3e-14  1.00e+00   4.047947567e+02   4.047947567e+02   3.3e-11  0.05  \n",
      "Optimizer terminated. Time: 0.05    \n",
      "\n"
     ]
    }
   ],
   "source": [
    "using JuMP\n",
    "using MosekTools\n",
    "using XLSX\n",
    "using LinearAlgebra\n",
    "Σ = [1361.61\t0\t97.416\t198.8541\t108.486\t284.3145\t79.9992\t322.3584\t275.8275\t169.1496\t42.7302\t83.4309\t193.3191\t234.3888\t165.312\t237.8574\t196.3449\t106.8255\t0\t344.4984\n",
    "0\t2180.89\t123.288\t310.8819\t68.649\t328.5345\t126.557\t485.68\t-125.6697\t445.985\t486.7074\t226.2615\t131.7407\t1742.7506\t549.192\t191.5634\t306.9591\t54.0786\t1172.7304\t-90.8315\n",
    "97.416\t123.288\t1089\t104.61\t0\t298.485\t160.974\t315.744\t315.744\t176.484\t433.092\t85.272\t39.897\t157.212\t55.44\t183.711\t361.515\t89.166\t96.36\t154.044\n",
    "198.8541\t310.8819\t104.61\t1004.89\t139.797\t307.9655\t-85.907\t461.552\t331.7405\t-12.1094\t293.6688\t266.2166\t293.8273\t276.8678\t35.504\t222.9144\t128.9873\t79.5353\t18.5128\t209.6321\n",
    "108.486\t68.649\t0\t139.797\t2401\t65.66\t1566.922\t81.536\t146.51\t112.308\t-18.914\t237.405\t177.723\t0\t1948.24\t28.714\t46.011\t47.285\t1116.024\t419.342\n",
    "284.3145\t328.5345\t298.485\t307.9655\t65.66\t1122.25\t0\t209.04\t260.429\t255.94\t362.068\t140.6665\t121.5045\t0\t150.08\t117.786\t283.1085\t122.8445\t293.46\t169.4095\n",
    "79.9992\t126.557\t160.974\t-85.907\t1566.922\t0\t2937.64\t67.6416\t340.3218\t-20.7044\t20.9212\t192.5726\t-87.3704\t-301.2436\t1456.896\t142.9254\t407.1504\t167.3696\t1202.8064\t189.7542\n",
    "322.3584\t485.68\t315.744\t461.552\t81.536\t209.04\t67.6416\t1730.56\t248.768\t333.7152\t481.728\t335.92\t368.8256\t1354.2464\t-69.888\t402.2304\t325.52\t112.4032\t267.2384\t-129.4592\n",
    "275.8275\t-125.6697\t315.744\t331.7405\t146.51\t260.429\t340.3218\t248.768\t894.01\t148.4834\t276.9936\t280.0733\t385.5904\t0\t301.392\t210.2568\t308.8371\t196.2038\t69.8464\t244.2531\n",
    "169.1496\t445.985\t176.484\t-12.1094\t112.308\t255.94\t-20.7044\t333.7152\t148.4834\t1459.24\t103.2164\t-135.7246\t200.1298\t940.2548\t192.528\t67.1556\t-11.9566\t-7.3726\t312.3232\t44.5794\n",
    "42.7302\t486.7074\t433.092\t293.6688\t-18.914\t362.068\t20.9212\t481.728\t276.9936\t103.2164\t1489.96\t299.2272\t140.0022\t551.6712\t64.848\t214.8862\t555.7628\t186.245\t360.6784\t360.3696\n",
    "83.4309\t226.2615\t85.272\t266.2166\t237.405\t140.6665\t192.5726\t335.92\t280.0733\t-135.7246\t299.2272\t1043.29\t377.4901\t897.617\t217.056\t113.5668\t343.7366\t112.2102\t339.5376\t25.1294\n",
    "193.3191\t131.7407\t39.897\t293.8273\t177.723\t121.5045\t-87.3704\t368.8256\t385.5904\t200.1298\t140.0022\t377.4901\t1624.09\t895.9496\t-45.136\t342.4291\t113.5251\t15.5558\t-235.352\t282.1806\n",
    "234.3888\t1742.7506\t157.212\t276.8678\t0\t0\t-301.2436\t1354.2464\t0\t940.2548\t551.6712\t897.617\t895.9496\t6304.36\t44.464\t162.8494\t298.2264\t-137.9178\t556.4352\t-277.9794\n",
    "165.312\t549.192\t55.44\t35.504\t1948.24\t150.08\t1456.896\t-69.888\t301.392\t192.528\t64.848\t217.056\t-45.136\t44.464\t3136\t98.448\t157.752\t97.272\t1340.864\t413.896\n",
    "237.8574\t191.5634\t183.711\t222.9144\t28.714\t117.786\t142.9254\t402.2304\t210.2568\t67.1556\t214.8862\t113.5668\t342.4291\t162.8494\t98.448\t858.49\t265.9561\t67.8588\t0\t56.9885\n",
    "196.3449\t306.9591\t361.515\t128.9873\t46.011\t283.1085\t407.1504\t325.52\t308.8371\t-11.9566\t555.7628\t343.7366\t113.5251\t298.2264\t157.752\t265.9561\t979.69\t205.3906\t438.7008\t158.2841\n",
    "106.8255\t54.0786\t89.166\t79.5353\t47.285\t122.8445\t167.3696\t112.4032\t196.2038\t-7.3726\t186.245\t112.2102\t15.5558\t-137.9178\t97.272\t67.8588\t205.3906\t372.49\t326.8648\t-15.0154\n",
    "0\t1172.7304\t96.36\t18.5128\t1116.024\t293.46\t1202.8064\t267.2384\t69.8464\t312.3232\t360.6784\t339.5376\t-235.352\t556.4352\t1340.864\t0\t438.7008\t326.8648\t3410.56\t68.1528\n",
    "344.4984\t-90.8315\t154.044\t209.6321\t419.342\t169.4095\t189.7542\t-129.4592\t244.2531\t44.5794\t360.3696\t25.1294\t282.1806\t-277.9794\t413.896\t56.9885\t158.2841\t-15.0154\t68.1528\t1513.21]\n",
    "μ = [13.5\n",
    "24.4\n",
    "19.9\n",
    "20.7\n",
    "36.9\n",
    "25.8\n",
    "32.4\n",
    "23.9\n",
    "17.2\n",
    "13.9\n",
    "32\n",
    "19.9\n",
    "19.9\n",
    "55.2\n",
    "37.8\n",
    "13.1\n",
    "21.2\n",
    "15.9\n",
    "47.5\n",
    "21.1\n",
    "]\n",
    "B=[-0.108339384\t0.642633759\t0.609674956\t-0.130443628\t-0.119105807\t0.645123871\t-0.088722096\t0.218322659\t0.871720522\t0.506584095\t0.341353622\t0.07854327\t-0.487591841\t0.344600104\t0.234173787\t-0.806204334\t0.150945321\t0.867453399\t-0.205424619\t0.70223255\n",
    "0.636350847\t0.8336435\t-0.551853617\t0.012292353\t0.954648149\t-0.752342567\t0.537702148\t0.06628117\t0.8045082\t0.042056791\t-0.923439148\t-0.783375864\t0.862820799\t-0.376159664\t0.766469191\t0.576039124\t0.97405182\t-0.996371801\t0.2622401\t-0.573077395\n",
    "0.329729728\t-0.194945707\t0.528292451\t-0.475486419\t-0.444556255\t0.820304808\t0.501009796\t0.639998571\t-0.819215599\t0.213779858\t0.935076457\t0.698672835\t-0.894674588\t0.180905293\t0.10602531\t0.144900582\t0.478225666\t-0.945006206\t0.597962899\t0.551069047\n",
    "0.390385575\t-0.256809817\t-0.887781913\t-0.936828899\t0.022120287\t-0.784456229\t-0.135547174\t-0.433500888\t-0.303847559\t0.743182473\t0.442735666\t-0.059169926\t-0.90004978\t-0.219877198\t0.253007833\t0.408863523\t0.935823724\t-0.671786708\t0.922983856\t0.388319854\n",
    "-0.002145989\t-0.091778201\t0.050202594\t0.90746501\t-0.650618692\t0.012734068\t0.643907913\t-0.58651793\t-0.05237375\t0.354917678\t0.587287867\t-0.922620723\t-0.606473871\t-0.985595944\t0.989541231\t0.948757763\t0.734956423\t-0.036841969\t-0.934132146\t0.250899776\n",
    "-0.587458985\t-0.457883436\t0.102199462\t-0.716119697\t0.757389255\t-0.265935762\t-0.525847693\t0.019585496\t-0.320190111\t-0.075953812\t0.785164923\t0.054194968\t-0.445197857\t-0.07865232\t0.866247908\t-0.724203553\t-0.54869732\t-0.702447882\t-0.032228971\t-0.802947939\n",
    "-0.831896987\t0.218352362\t-0.617555087\t0.079606239\t-0.022464934\t0.451520274\t-0.247733293\t-0.808445635\t0.406434032\t-0.531791426\t-0.986410261\t0.017731099\t0.527164358\t0.923971238\t-0.931972443\t0.660909917\t-0.230864052\t0.701923291\t0.121651794\t0.968141846\n",
    "0.62079565\t-0.934226908\t0.063966485\t-0.462297694\t0.721729663\t-0.283304752\t-0.375589772\t-0.487079443\t-0.238916448\t-0.653201238\t-0.442752644\t-0.921868128\t-0.928791652\t0.583329106\t0.601661313\t0.071901611\t-0.263930092\t0.832165696\t-0.244543804\t-0.179109822\n",
    "-0.337171462\t0.908750655\t-0.456154206\t-0.061963024\t0.597635535\t0.833967735\t0.210036563\t0.020939964\t0.034964228\t0.323252965\t-0.541158104\t-0.57784448\t-0.416843962\t-0.962850606\t-0.625884835\t0.474383071\t-0.877355784\t-0.807717784\t-0.10114362\t-0.758435404\n",
    "0.728797947\t-0.967636925\t-0.79164328\t-0.77769573\t-0.662546818\t0.8569109\t0.87002236\t-0.159040652\t0.046360101\t-0.626432723\t-0.053979374\t0.856382903\t-0.988233303\t0.799577727\t0.386657505\t0.286770819\t0.096164862\t-0.190011296\t0.778515483\t-0.344191794\n",
    "-0.645074676\t0.612813002\t-0.787509211\t0.480585916\t-0.865408654\t0.067692216\t-0.313697067\t0.336766512\t-0.840671602\t-0.990326936\t-0.409631389\t0.264831454\t-0.05535203\t0.811673282\t0.821870415\t0.536555399\t-0.91790193\t0.408473802\t0.937907556\t0.73199761\n",
    "-0.913475678\t0.573655893\t-0.954048586\t0.259023011\t-0.977177628\t-0.617311337\t0.208550328\t0.766125212\t-0.934453348\t-0.946935646\t-0.906675717\t0.890429395\t-0.808243746\t-0.661300872\t-0.563166516\t0.207823178\t-0.221795179\t-0.325999573\t-0.058407799\t-0.761510687\n",
    "0.51333345\t0.377273148\t0.859033012\t-0.947028021\t0.731493035\t-0.468164795\t-0.825841069\t0.91832572\t-0.986063425\t-0.32162093\t-0.495674965\t-0.996600788\t-0.966646716\t0.720869129\t0.389584736\t-0.579830942\t-0.747897298\t0.469732809\t0.962633013\t-0.63067916\n",
    "0.251212432\t-0.317406092\t-0.733895304\t0.120840402\t0.852301182\t0.170835746\t0.420945631\t-0.671476652\t0.025245969\t0.050879165\t-0.476674707\t0.431278954\t-0.339574293\t0.008522042\t0.778053274\t0.130806255\t-0.938532393\t0.814594867\t-0.971406278\t0.410317603\n",
    "0.740464133\t0.048100659\t0.372764139\t-0.913080793\t-0.190489443\t-0.77852031\t0.194034489\t-0.145101161\t0.806630315\t-0.746901223\t0.924197745\t0.563859869\t0.913015605\t0.060678753\t0.265732402\t-0.220345045\t-0.308516628\t0.115072134\t0.37098257\t-0.956704193\n",
    "-0.688085574\t0.658522086\t0.763017232\t0.925636944\t-0.669361918\t-0.819748609\t-0.390777379\t0.898989473\t-0.686228226\t-0.96617767\t0.859665411\t0.676500496\t0.712261793\t-0.367098696\t-0.620110223\t0.148466012\t0.904169997\t0.939288228\t-0.99544957\t-0.652104552\n",
    "0.918185548\t-0.153568437\t-0.154180608\t0.069774455\t0.025196184\t0.14940496\t0.276828959\t0.992419567\t0.865694563\t0.064851339\t0.414884275\t0.903005657\t-0.763421455\t0.851341767\t-0.865890464\t-0.510447958\t0.160241112\t0.356851927\t0.094555427\t0.584706646\n",
    "-0.895081942\t0.045723861\t-0.285310658\t-0.081697324\t-0.79704335\t-0.07031366\t-0.415849598\t-0.766604576\t0.125777633\t-0.637173023\t0.738266013\t0.442375904\t-0.530872002\t-0.397319594\t-0.95601375\t0.318536376\t0.020043202\t-0.763026868\t0.259468938\t-0.738109924\n",
    "-0.633128784\t-0.775569308\t-0.235157902\t0.559468259\t-0.882121186\t-0.645669183\t0.114902997\t0.002127986\t-0.086289188\t-0.414984496\t-0.592741486\t-0.784376401\t-0.642465153\t0.295351621\t0.585760685\t0.779359476\t-0.150052056\t-0.146737927\t0.612365477\t0.322672876\n",
    "-0.24462942\t-0.016573005\t-0.230455495\t-0.439388187\t-0.321356629\t0.468211242\t-0.414233934\t0.61221471\t-0.469513768\t0.696323878\t0.176102874\t0.805660927\t-0.620699199\t0.207409372\t0.121233738\t0.932352007\t0.178295956\t0.311836878\t-0.575325706\t0.91849837\n",
    "]\n",
    "robust = Model(Mosek.Optimizer)\n",
    "@variable(robust, x[1:20]>=0)\n",
    "@objective(robust, Min, transpose(x)*Σ*x)\n",
    "@constraint(robust, sum(x[i] for i=1:20)==1)\n",
    "@constraint(robust, vcat(transpose(μ)*x-30,transpose(B)*x) in SecondOrderCone())\n",
    "optimize!(robust)"
   ]
  },
  {
   "cell_type": "code",
   "execution_count": 40,
   "metadata": {},
   "outputs": [
    {
     "data": {
      "text/plain": [
       "404.79475649509703"
      ]
     },
     "execution_count": 40,
     "metadata": {},
     "output_type": "execute_result"
    }
   ],
   "source": [
    "objective_value(robust)"
   ]
  },
  {
   "cell_type": "code",
   "execution_count": 41,
   "metadata": {},
   "outputs": [
    {
     "data": {
      "text/plain": [
       "20-element Vector{Float64}:\n",
       " 7.04960206555212e-10\n",
       " 1.6924959731942035e-10\n",
       " 0.04673599001956482\n",
       " 0.05527910630967799\n",
       " 0.09270974550811881\n",
       " 0.15269980386911008\n",
       " 0.05003049439712\n",
       " 5.268328960273548e-10\n",
       " 7.775799180219993e-10\n",
       " 2.0790164550472138e-10\n",
       " 0.11106888983987377\n",
       " 3.5931526892641813e-10\n",
       " 0.031327612851315675\n",
       " 0.11781920061723858\n",
       " 0.03298405892506109\n",
       " 4.399900812462505e-9\n",
       " 1.6259638682780204e-9\n",
       " 0.15695451652390885\n",
       " 0.08250938390397757\n",
       " 0.06988118836262491"
      ]
     },
     "execution_count": 41,
     "metadata": {},
     "output_type": "execute_result"
    }
   ],
   "source": [
    "value.(x)"
   ]
  },
  {
   "cell_type": "code",
   "execution_count": 43,
   "metadata": {},
   "outputs": [
    {
     "ename": "LoadError",
     "evalue": "JuMP no longer performs automatic transformation of `norm()` expressions\ninto second-order cone constraints. They should now be expressed using the\n`SecondOrderCone()` set.\n\n## Examples\n\n```julia\n@constraint(model, norm(x) <= t)\n```\nshould now be written as:\n```julia\n@constraint(model, [t; x] in SecondOrderCone())\n```\n\n```julia\n@objective(model, Min, norm(x))\n```\nshould now be written as:\n```julia\nt = @variable(model)\n@constraint(model, [t; x] in SecondOrderCone())\n@objective(model, Min, t)\n```\n",
     "output_type": "error",
     "traceback": [
      "JuMP no longer performs automatic transformation of `norm()` expressions\ninto second-order cone constraints. They should now be expressed using the\n`SecondOrderCone()` set.\n\n## Examples\n\n```julia\n@constraint(model, norm(x) <= t)\n```\nshould now be written as:\n```julia\n@constraint(model, [t; x] in SecondOrderCone())\n```\n\n```julia\n@objective(model, Min, norm(x))\n```\nshould now be written as:\n```julia\nt = @variable(model)\n@constraint(model, [t; x] in SecondOrderCone())\n@objective(model, Min, t)\n```\n",
      "",
      "Stacktrace:",
      " [1] error(s::String)",
      "   @ Base .\\error.jl:33",
      " [2] norm(#unused#::Vector{AffExpr})",
      "   @ JuMP C:\\Users\\Maggie Liu\\.julia\\packages\\JuMP\\Xrr7O\\src\\sets.jl:89",
      " [3] macro expansion",
      "   @ C:\\Users\\Maggie Liu\\.julia\\packages\\MutableArithmetics\\6pKCK\\src\\rewrite.jl:279 [inlined]",
      " [4] macro expansion",
      "   @ C:\\Users\\Maggie Liu\\.julia\\packages\\JuMP\\Xrr7O\\src\\macros.jl:676 [inlined]",
      " [5] top-level scope",
      "   @ In[43]:5",
      " [6] eval",
      "   @ .\\boot.jl:360 [inlined]",
      " [7] include_string(mapexpr::typeof(REPL.softscope), mod::Module, code::String, filename::String)",
      "   @ Base .\\loading.jl:1094"
     ]
    }
   ],
   "source": [
    "Problem1 = Model(Mosek.Optimizer)\n",
    "@variable(Problem1, x[1:20]>=0)\n",
    "@objective(Problem1, Min, transpose(x)*Σ*x)\n",
    "@constraint(Problem1, sum(x[i] for i=1:20)==1)\n",
    "@constraint(Problem1, transpose(μ)*x+norm(transpose(B)*x)>=0)\n",
    "optimize!(Problem1)"
   ]
  }
 ],
 "metadata": {
  "kernelspec": {
   "display_name": "Julia 1.6.1",
   "language": "julia",
   "name": "julia-1.6"
  },
  "language_info": {
   "file_extension": ".jl",
   "mimetype": "application/julia",
   "name": "julia",
   "version": "1.6.1"
  }
 },
 "nbformat": 4,
 "nbformat_minor": 4
}
